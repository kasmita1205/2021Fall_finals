{
 "cells": [
  {
   "cell_type": "code",
   "execution_count": 28,
   "metadata": {
    "collapsed": true,
    "pycharm": {
     "name": "#%%\n"
    }
   },
   "outputs": [],
   "source": [
    "import pandas as pd\n",
    "import numpy as np\n",
    "import warnings\n",
    "import matplotlib.pyplot as plt\n",
    "import seaborn as sns\n",
    "warnings.filterwarnings('ignore')\n",
    "import datetime as dt\n",
    "import main"
   ]
  },
  {
   "cell_type": "code",
   "execution_count": 29,
   "outputs": [],
   "source": [
    "covid  = pd.read_csv(\"WHO-COVID-19-global-data.csv\")\n",
    "production = pd.read_excel(\"US-Monthly_NG_Production.xls\")\n",
    "consumption = pd.read_excel(\"US-Monthly_NG_Consumption.xls\")\n",
    "import_export = pd.read_excel(\"US-Monthly_NG_import_export.xls\")"
   ],
   "metadata": {
    "collapsed": false,
    "pycharm": {
     "name": "#%%\n"
    }
   }
  },
  {
   "cell_type": "code",
   "execution_count": 30,
   "outputs": [],
   "source": [
    "df = main.get_country_data(covid, \"US\")"
   ],
   "metadata": {
    "collapsed": false,
    "pycharm": {
     "name": "#%%\n"
    }
   }
  },
  {
   "cell_type": "code",
   "execution_count": 31,
   "outputs": [],
   "source": [
    "\n",
    "df = df.rename(columns={\"Date_reported\":\"Date\"})"
   ],
   "metadata": {
    "collapsed": false,
    "pycharm": {
     "name": "#%%\n"
    }
   }
  },
  {
   "cell_type": "code",
   "execution_count": 32,
   "outputs": [
    {
     "ename": "TypeError",
     "evalue": "process_dataframe() takes 1 positional argument but 2 were given",
     "output_type": "error",
     "traceback": [
      "\u001B[1;31m---------------------------------------------------------------------------\u001B[0m",
      "\u001B[1;31mTypeError\u001B[0m                                 Traceback (most recent call last)",
      "\u001B[1;32m<ipython-input-32-4c67e0e9a1e0>\u001B[0m in \u001B[0;36m<module>\u001B[1;34m\u001B[0m\n\u001B[0;32m      1\u001B[0m \u001B[0myear\u001B[0m \u001B[1;33m=\u001B[0m\u001B[1;33m[\u001B[0m\u001B[1;36m2020\u001B[0m\u001B[1;33m,\u001B[0m\u001B[1;36m2021\u001B[0m\u001B[1;33m]\u001B[0m\u001B[1;33m\u001B[0m\u001B[1;33m\u001B[0m\u001B[0m\n\u001B[1;32m----> 2\u001B[1;33m \u001B[0mdf\u001B[0m \u001B[1;33m=\u001B[0m \u001B[0mmain\u001B[0m\u001B[1;33m.\u001B[0m\u001B[0mprocess_dataframe\u001B[0m\u001B[1;33m(\u001B[0m\u001B[0mdf\u001B[0m\u001B[1;33m,\u001B[0m \u001B[0myear\u001B[0m\u001B[1;33m)\u001B[0m\u001B[1;33m\u001B[0m\u001B[1;33m\u001B[0m\u001B[0m\n\u001B[0m\u001B[0;32m      3\u001B[0m \u001B[0mdf\u001B[0m \u001B[1;33m=\u001B[0m \u001B[0mdf\u001B[0m\u001B[1;33m.\u001B[0m\u001B[0mgroupby\u001B[0m\u001B[1;33m(\u001B[0m\u001B[1;33m[\u001B[0m\u001B[1;34m'year'\u001B[0m\u001B[1;33m,\u001B[0m\u001B[1;34m'month'\u001B[0m\u001B[1;33m]\u001B[0m\u001B[1;33m)\u001B[0m\u001B[1;33m.\u001B[0m\u001B[0msum\u001B[0m\u001B[1;33m(\u001B[0m\u001B[1;33m)\u001B[0m\u001B[1;33m\u001B[0m\u001B[1;33m\u001B[0m\u001B[0m\n\u001B[0;32m      4\u001B[0m \u001B[0mdf\u001B[0m\u001B[1;33m.\u001B[0m\u001B[0mreset_index\u001B[0m\u001B[1;33m(\u001B[0m\u001B[0minplace\u001B[0m \u001B[1;33m=\u001B[0m\u001B[1;32mTrue\u001B[0m\u001B[1;33m)\u001B[0m\u001B[1;33m\u001B[0m\u001B[1;33m\u001B[0m\u001B[0m\n\u001B[0;32m      5\u001B[0m \u001B[0mdf\u001B[0m\u001B[1;33m\u001B[0m\u001B[1;33m\u001B[0m\u001B[0m\n",
      "\u001B[1;31mTypeError\u001B[0m: process_dataframe() takes 1 positional argument but 2 were given"
     ]
    }
   ],
   "source": [
    "year =[2020,2021]\n",
    "df = main.process_dataframe(df, year)\n",
    "df = df.groupby(['year','month']).sum()\n",
    "df.reset_index(inplace =True)\n",
    "df"
   ],
   "metadata": {
    "collapsed": false,
    "pycharm": {
     "name": "#%%\n"
    }
   }
  },
  {
   "cell_type": "code",
   "execution_count": null,
   "outputs": [],
   "source": [
    "sns.set(rc={\"figure.figsize\":(10, 8)})\n",
    "sns.lineplot(data =df['New_cases'])\n",
    "arr= np.arange(1,24,step=1)\n",
    "plt.xticks(arr,labels=['Jan2020','Feb2020','Mar2020','Apr2020','May2020','Jun2020','Jul2020','Aug2020','Sep2020','Oct2020','Nov2020','Dec2020',\n",
    "                      'Jan2021','Feb2021','Mar2021','Apr2021','May2021','Jun2021','Jul2021','Aug2021','Sep2021','Oct2021','Nov2021'],rotation=60,fontsize=10)\n",
    "plt.xlabel(\"Timeline\", fontsize=15, fontweight = \"bold\")\n",
    "plt.ylabel(\"Number of covid cases (in Millions)\", fontsize=15, fontweight=\"bold\")\n",
    "plt.show()"
   ],
   "metadata": {
    "collapsed": false,
    "pycharm": {
     "name": "#%%\n"
    }
   }
  },
  {
   "cell_type": "code",
   "execution_count": null,
   "outputs": [],
   "source": [
    "production = main.process_dataframe(production, year)\n",
    "consumption = main.process_dataframe(consumption, year)\n",
    "import_export = main.process_dataframe(import_export, year)"
   ],
   "metadata": {
    "collapsed": false,
    "pycharm": {
     "name": "#%%\n"
    }
   }
  },
  {
   "cell_type": "code",
   "execution_count": null,
   "outputs": [],
   "source": [
    "fig, ax = plt.subplots()\n",
    "ax.plot(consumption['U.S. Natural Gas Total Consumption (MMcf)'], label='consumption', marker ='+')\n",
    "ax.plot(production['U.S. Natural Gas Gross Withdrawals (MMcf)'], label=\"production\", marker ='*')\n",
    "plt.legend()\n",
    "arr= np.arange(0,23,step=1)\n",
    "plt.xticks(arr,labels=['Jan2020','Feb2020','Mar2020','Apr2020','May2020','Jun2020','Jul2020','Aug2020','Sep2020','Oct2020','Nov2020','Dec2020',\n",
    "                      'Jan2021','Feb2021','Mar2021','Apr2021','May2021','Jun2021','Jul2021','Aug2021','Sep2021','Oct2021','Nov2021'],rotation=60,fontsize=10)\n",
    "plt.ylabel(\"Production-Consumption (in Millions)\", fontsize=15, fontweight='bold')\n",
    "plt.xlabel(\"Timeline\", fontsize=15, fontweight= 'bold')\n",
    "\n",
    "ax2 = ax.twinx()\n",
    "ax2.plot(df['New_cases'], label = 'cases', color = 'green', marker='o')\n",
    "ax2.legend()\n",
    "plt.xlabel(\"Timeline\", fontsize=20)\n",
    "plt.ylabel(\"Covid Cases (in Millions)\", fontsize =15, fontweight='bold')\n",
    "plt.show()"
   ],
   "metadata": {
    "collapsed": false,
    "pycharm": {
     "name": "#%%\n"
    }
   }
  },
  {
   "cell_type": "code",
   "execution_count": null,
   "outputs": [],
   "source": [
    "plt.subplot(2,2,1)\n",
    "plt.plot(import_export['Date'], import_export['U.S. Natural Gas Imports (MMcf)'], label='imports')\n",
    "plt.plot(import_export['Date'], import_export['U.S. Natural Gas Exports (MMcf)'], label= 'exports')\n",
    "plt.legend()\n",
    "plt.xticks(fontsize=5)\n",
    "\n",
    "plt.subplot(2,2,2)\n",
    "plt.plot(consumption['Date'],consumption['U.S. Natural Gas Total Consumption (MMcf)'], label='consumption')\n",
    "plt.plot(production['Date'],production['U.S. Natural Gas Gross Withdrawals (MMcf)'], label=\"production\")\n",
    "plt.legend()\n",
    "plt.xticks(fontsize=5)\n",
    "\n",
    "plt.subplot(2,2,3)\n",
    "plt.plot(df[\"New_cases\"], label='cases')\n",
    "arr= np.arange(0,23,step=1)\n",
    "plt.xticks(arr,labels=['Jan2020','Feb2020','Mar2020','Apr2020','May2020','Jun2020','Jul2020','Aug2020','Sep2020','Oct2020','Nov2020','Dec2020',\n",
    "                      'Jan2021','Feb2021','Mar2021','Apr2021','May2021','Jun2021','Jul2021','Aug2021','Sep2021','Oct2021','Nov2021'],rotation=60,fontsize=10)\n",
    "plt.xticks(fontsize=3)\n",
    "\n",
    "plt.show()"
   ],
   "metadata": {
    "collapsed": false,
    "pycharm": {
     "name": "#%%\n"
    }
   }
  },
  {
   "cell_type": "code",
   "execution_count": null,
   "outputs": [],
   "source": [
    "primary_energy_consump = pd.read_excel(\"Table_1.3_Primary_Energy_Consumption_by_Source (1).xlsx\", skiprows=10)"
   ],
   "metadata": {
    "collapsed": false,
    "pycharm": {
     "name": "#%%\n"
    }
   }
  },
  {
   "cell_type": "code",
   "execution_count": null,
   "outputs": [],
   "source": [
    "main.compare_monthly_energy_with_covid(primary_energy_consump, df)"
   ],
   "metadata": {
    "collapsed": false,
    "pycharm": {
     "name": "#%%\n"
    }
   }
  },
  {
   "cell_type": "code",
   "execution_count": null,
   "outputs": [],
   "source": [],
   "metadata": {
    "collapsed": false,
    "pycharm": {
     "name": "#%%\n"
    }
   }
  }
 ],
 "metadata": {
  "kernelspec": {
   "display_name": "Python 3",
   "language": "python",
   "name": "python3"
  },
  "language_info": {
   "codemirror_mode": {
    "name": "ipython",
    "version": 2
   },
   "file_extension": ".py",
   "mimetype": "text/x-python",
   "name": "python",
   "nbconvert_exporter": "python",
   "pygments_lexer": "ipython2",
   "version": "2.7.6"
  }
 },
 "nbformat": 4,
 "nbformat_minor": 0
}